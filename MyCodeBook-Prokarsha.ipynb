{
 "cells": [
  {
   "cell_type": "code",
   "execution_count": 1,
   "id": "f919d030",
   "metadata": {},
   "outputs": [],
   "source": [
    "import pandas as pd\n",
    "import numpy as np"
   ]
  },
  {
   "cell_type": "code",
   "execution_count": 2,
   "id": "52002d76",
   "metadata": {},
   "outputs": [],
   "source": [
    "# Load train data\n",
    "train_data = pd.read_csv('train.csv')"
   ]
  },
  {
   "cell_type": "code",
   "execution_count": 3,
   "id": "a4769ccf",
   "metadata": {},
   "outputs": [
    {
     "data": {
      "text/html": [
       "<div>\n",
       "<style scoped>\n",
       "    .dataframe tbody tr th:only-of-type {\n",
       "        vertical-align: middle;\n",
       "    }\n",
       "\n",
       "    .dataframe tbody tr th {\n",
       "        vertical-align: top;\n",
       "    }\n",
       "\n",
       "    .dataframe thead th {\n",
       "        text-align: right;\n",
       "    }\n",
       "</style>\n",
       "<table border=\"1\" class=\"dataframe\">\n",
       "  <thead>\n",
       "    <tr style=\"text-align: right;\">\n",
       "      <th></th>\n",
       "      <th>textID</th>\n",
       "      <th>text</th>\n",
       "      <th>selected_text</th>\n",
       "      <th>sentiment</th>\n",
       "    </tr>\n",
       "  </thead>\n",
       "  <tbody>\n",
       "    <tr>\n",
       "      <th>0</th>\n",
       "      <td>cb774db0d1</td>\n",
       "      <td>I`d have responded, if I were going</td>\n",
       "      <td>I`d have responded, if I were going</td>\n",
       "      <td>neutral</td>\n",
       "    </tr>\n",
       "    <tr>\n",
       "      <th>1</th>\n",
       "      <td>549e992a42</td>\n",
       "      <td>Sooo SAD I will miss you here in San Diego!!!</td>\n",
       "      <td>Sooo SAD</td>\n",
       "      <td>negative</td>\n",
       "    </tr>\n",
       "    <tr>\n",
       "      <th>2</th>\n",
       "      <td>088c60f138</td>\n",
       "      <td>my boss is bullying me...</td>\n",
       "      <td>bullying me</td>\n",
       "      <td>negative</td>\n",
       "    </tr>\n",
       "    <tr>\n",
       "      <th>3</th>\n",
       "      <td>9642c003ef</td>\n",
       "      <td>what interview! leave me alone</td>\n",
       "      <td>leave me alone</td>\n",
       "      <td>negative</td>\n",
       "    </tr>\n",
       "    <tr>\n",
       "      <th>4</th>\n",
       "      <td>358bd9e861</td>\n",
       "      <td>Sons of ****, why couldn`t they put them on t...</td>\n",
       "      <td>Sons of ****,</td>\n",
       "      <td>negative</td>\n",
       "    </tr>\n",
       "  </tbody>\n",
       "</table>\n",
       "</div>"
      ],
      "text/plain": [
       "       textID                                               text  \\\n",
       "0  cb774db0d1                I`d have responded, if I were going   \n",
       "1  549e992a42      Sooo SAD I will miss you here in San Diego!!!   \n",
       "2  088c60f138                          my boss is bullying me...   \n",
       "3  9642c003ef                     what interview! leave me alone   \n",
       "4  358bd9e861   Sons of ****, why couldn`t they put them on t...   \n",
       "\n",
       "                         selected_text sentiment  \n",
       "0  I`d have responded, if I were going   neutral  \n",
       "1                             Sooo SAD  negative  \n",
       "2                          bullying me  negative  \n",
       "3                       leave me alone  negative  \n",
       "4                        Sons of ****,  negative  "
      ]
     },
     "execution_count": 3,
     "metadata": {},
     "output_type": "execute_result"
    }
   ],
   "source": [
    "train_data.head()"
   ]
  },
  {
   "cell_type": "code",
   "execution_count": 4,
   "id": "7411f0c1",
   "metadata": {},
   "outputs": [
    {
     "name": "stdout",
     "output_type": "stream",
     "text": [
      "<class 'pandas.core.frame.DataFrame'>\n",
      "RangeIndex: 27481 entries, 0 to 27480\n",
      "Data columns (total 4 columns):\n",
      " #   Column         Non-Null Count  Dtype \n",
      "---  ------         --------------  ----- \n",
      " 0   textID         27481 non-null  object\n",
      " 1   text           27480 non-null  object\n",
      " 2   selected_text  27480 non-null  object\n",
      " 3   sentiment      27481 non-null  object\n",
      "dtypes: object(4)\n",
      "memory usage: 858.9+ KB\n"
     ]
    }
   ],
   "source": [
    "train_data.info()"
   ]
  },
  {
   "cell_type": "code",
   "execution_count": 5,
   "id": "961ead47",
   "metadata": {},
   "outputs": [],
   "source": [
    "# Load test data\n",
    "test_data = pd.read_csv('test.csv')"
   ]
  },
  {
   "cell_type": "code",
   "execution_count": 6,
   "id": "71cc4265",
   "metadata": {},
   "outputs": [
    {
     "data": {
      "text/html": [
       "<div>\n",
       "<style scoped>\n",
       "    .dataframe tbody tr th:only-of-type {\n",
       "        vertical-align: middle;\n",
       "    }\n",
       "\n",
       "    .dataframe tbody tr th {\n",
       "        vertical-align: top;\n",
       "    }\n",
       "\n",
       "    .dataframe thead th {\n",
       "        text-align: right;\n",
       "    }\n",
       "</style>\n",
       "<table border=\"1\" class=\"dataframe\">\n",
       "  <thead>\n",
       "    <tr style=\"text-align: right;\">\n",
       "      <th></th>\n",
       "      <th>textID</th>\n",
       "      <th>text</th>\n",
       "      <th>sentiment</th>\n",
       "    </tr>\n",
       "  </thead>\n",
       "  <tbody>\n",
       "    <tr>\n",
       "      <th>0</th>\n",
       "      <td>f87dea47db</td>\n",
       "      <td>Last session of the day  http://twitpic.com/67ezh</td>\n",
       "      <td>neutral</td>\n",
       "    </tr>\n",
       "    <tr>\n",
       "      <th>1</th>\n",
       "      <td>96d74cb729</td>\n",
       "      <td>Shanghai is also really exciting (precisely -...</td>\n",
       "      <td>positive</td>\n",
       "    </tr>\n",
       "    <tr>\n",
       "      <th>2</th>\n",
       "      <td>eee518ae67</td>\n",
       "      <td>Recession hit Veronique Branquinho, she has to...</td>\n",
       "      <td>negative</td>\n",
       "    </tr>\n",
       "    <tr>\n",
       "      <th>3</th>\n",
       "      <td>01082688c6</td>\n",
       "      <td>happy bday!</td>\n",
       "      <td>positive</td>\n",
       "    </tr>\n",
       "    <tr>\n",
       "      <th>4</th>\n",
       "      <td>33987a8ee5</td>\n",
       "      <td>http://twitpic.com/4w75p - I like it!!</td>\n",
       "      <td>positive</td>\n",
       "    </tr>\n",
       "  </tbody>\n",
       "</table>\n",
       "</div>"
      ],
      "text/plain": [
       "       textID                                               text sentiment\n",
       "0  f87dea47db  Last session of the day  http://twitpic.com/67ezh   neutral\n",
       "1  96d74cb729   Shanghai is also really exciting (precisely -...  positive\n",
       "2  eee518ae67  Recession hit Veronique Branquinho, she has to...  negative\n",
       "3  01082688c6                                        happy bday!  positive\n",
       "4  33987a8ee5             http://twitpic.com/4w75p - I like it!!  positive"
      ]
     },
     "execution_count": 6,
     "metadata": {},
     "output_type": "execute_result"
    }
   ],
   "source": [
    "test_data.head()"
   ]
  },
  {
   "cell_type": "code",
   "execution_count": 7,
   "id": "9985a318",
   "metadata": {},
   "outputs": [
    {
     "name": "stdout",
     "output_type": "stream",
     "text": [
      "<class 'pandas.core.frame.DataFrame'>\n",
      "RangeIndex: 3534 entries, 0 to 3533\n",
      "Data columns (total 3 columns):\n",
      " #   Column     Non-Null Count  Dtype \n",
      "---  ------     --------------  ----- \n",
      " 0   textID     3534 non-null   object\n",
      " 1   text       3534 non-null   object\n",
      " 2   sentiment  3534 non-null   object\n",
      "dtypes: object(3)\n",
      "memory usage: 83.0+ KB\n"
     ]
    }
   ],
   "source": [
    "test_data.info()"
   ]
  },
  {
   "cell_type": "code",
   "execution_count": 8,
   "id": "a1582805",
   "metadata": {},
   "outputs": [],
   "source": [
    "from sklearn.feature_extraction.text import CountVectorizer\n",
    "from sklearn.model_selection import train_test_split\n",
    "from sklearn.naive_bayes import MultinomialNB\n",
    "from sklearn.metrics import accuracy_score, classification_report"
   ]
  },
  {
   "cell_type": "code",
   "execution_count": 9,
   "id": "97477d29",
   "metadata": {},
   "outputs": [
    {
     "name": "stdout",
     "output_type": "stream",
     "text": [
      "Accuracy: 0.65\n",
      "              precision    recall  f1-score   support\n",
      "\n",
      "    negative       0.69      0.58      0.63      1562\n",
      "     neutral       0.59      0.69      0.63      2230\n",
      "    positive       0.72      0.67      0.69      1705\n",
      "\n",
      "    accuracy                           0.65      5497\n",
      "   macro avg       0.67      0.64      0.65      5497\n",
      "weighted avg       0.66      0.65      0.65      5497\n",
      "\n"
     ]
    }
   ],
   "source": [
    "# Replace missing values with empty strings\n",
    "train_data['text'].fillna('', inplace=True)\n",
    "test_data['text'].fillna('', inplace=True)\n",
    "\n",
    "# Split the data into training and validation sets\n",
    "train_texts, val_texts, train_labels, val_labels = train_test_split(\n",
    "    train_data['text'], train_data['sentiment'], random_state=42, test_size=0.2\n",
    ")\n",
    "\n",
    "# Convert text data to numerical features using CountVectorizer\n",
    "vectorizer = CountVectorizer()\n",
    "X_train = vectorizer.fit_transform(train_texts)\n",
    "X_val = vectorizer.transform(val_texts)\n",
    "\n",
    "# Train a Naive Bayes classifier\n",
    "classifier = MultinomialNB()\n",
    "classifier.fit(X_train, train_labels)\n",
    "\n",
    "# Make predictions on the validation set\n",
    "predictions = classifier.predict(X_val)\n",
    "\n",
    "# Evaluate the model\n",
    "accuracy = accuracy_score(val_labels, predictions)\n",
    "print(f'Accuracy: {accuracy:.2f}')\n",
    "\n",
    "# Print classification report\n",
    "print(classification_report(val_labels, predictions))\n",
    "\n",
    "# Now, you can use the trained model to predict sentiments on the test data\n",
    "X_test = vectorizer.transform(test_data['text'])\n",
    "test_predictions = classifier.predict(X_test)\n",
    "\n",
    "# Add predictions to the test_data DataFrame\n",
    "test_data['predicted_sentiment'] = test_predictions\n",
    "\n",
    "# Save the results to a new CSV file\n",
    "test_data.to_csv('sentiment_predictions.csv', index=False)"
   ]
  },
  {
   "cell_type": "code",
   "execution_count": 12,
   "id": "e9c36099",
   "metadata": {},
   "outputs": [],
   "source": [
    "import tensorflow as tf\n",
    "from tensorflow.keras.preprocessing.text import Tokenizer\n",
    "from tensorflow.keras.preprocessing.sequence import pad_sequences"
   ]
  },
  {
   "cell_type": "code",
   "execution_count": 13,
   "id": "d502ebac",
   "metadata": {},
   "outputs": [
    {
     "name": "stdout",
     "output_type": "stream",
     "text": [
      "Epoch 1/3\n",
      "687/687 [==============================] - 41s 60ms/step - loss: 1.0622 - accuracy: 0.4242 - val_loss: 1.0183 - val_accuracy: 0.4582\n",
      "Epoch 2/3\n",
      "687/687 [==============================] - 42s 61ms/step - loss: 0.9280 - accuracy: 0.5694 - val_loss: 0.8804 - val_accuracy: 0.6176\n",
      "Epoch 3/3\n",
      "687/687 [==============================] - 46s 68ms/step - loss: 0.7943 - accuracy: 0.6699 - val_loss: 0.8103 - val_accuracy: 0.6553\n",
      "111/111 [==============================] - 0s 2ms/step\n"
     ]
    }
   ],
   "source": [
    "# Tokenize and pad the text data\n",
    "tokenizer = Tokenizer()\n",
    "tokenizer.fit_on_texts(train_data['text'])\n",
    "\n",
    "# Convert text to sequences\n",
    "train_sequences = tokenizer.texts_to_sequences(train_data['text'])\n",
    "test_sequences = tokenizer.texts_to_sequences(test_data['text'])\n",
    "\n",
    "# Pad sequences to a fixed length\n",
    "max_length = 128\n",
    "train_padded = pad_sequences(train_sequences, maxlen=max_length, padding='post', truncating='post')\n",
    "test_padded = pad_sequences(test_sequences, maxlen=max_length, padding='post', truncating='post')\n",
    "\n",
    "# Define a simple sentiment analysis model\n",
    "model = tf.keras.Sequential([\n",
    "    tf.keras.layers.Embedding(input_dim=len(tokenizer.word_index) + 1, output_dim=128, input_length=max_length),\n",
    "    tf.keras.layers.GlobalAveragePooling1D(),\n",
    "    tf.keras.layers.Dense(3, activation='softmax')\n",
    "])\n",
    "\n",
    "# Compile the model\n",
    "model.compile(optimizer='adam', loss='sparse_categorical_crossentropy', metrics=['accuracy'])\n",
    "\n",
    "# Prepare labels\n",
    "train_labels = train_data['sentiment'].astype('category').cat.codes\n",
    "\n",
    "# Split the data into training and validation sets\n",
    "X_train, X_val, y_train, y_val = train_test_split(train_padded, train_labels, test_size=0.2, random_state=42)\n",
    "\n",
    "# Train the model\n",
    "model.fit(X_train, y_train, epochs=3, batch_size=32, validation_data=(X_val, y_val))\n",
    "\n",
    "# Make predictions on the test data\n",
    "test_predictions = model.predict(test_padded)\n",
    "test_labels_predicted = tf.argmax(test_predictions, axis=1)\n",
    "\n",
    "# Map predicted labels back to sentiment categories\n",
    "predicted_sentiments = test_labels_predicted.numpy()\n",
    "\n",
    "# Add predictions to the test_data DataFrame\n",
    "test_data['predicted_sentiment'] = predicted_sentiments\n",
    "\n",
    "# Save the results to a new CSV file\n",
    "test_data.to_csv('test_sentiment_predictions.csv', index=False)"
   ]
  },
  {
   "cell_type": "code",
   "execution_count": 14,
   "id": "2c3dcb8b",
   "metadata": {},
   "outputs": [
    {
     "name": "stdout",
     "output_type": "stream",
     "text": [
      "Epoch 1/3\n",
      "859/859 [==============================] - 53s 61ms/step - loss: 1.0468 - accuracy: 0.4469\n",
      "Epoch 2/3\n",
      "859/859 [==============================] - 51s 59ms/step - loss: 0.8774 - accuracy: 0.6124\n",
      "Epoch 3/3\n",
      "859/859 [==============================] - 51s 59ms/step - loss: 0.7487 - accuracy: 0.6955\n"
     ]
    },
    {
     "name": "stderr",
     "output_type": "stream",
     "text": [
      "C:\\Users\\Prokarsha\\anaconda3\\lib\\site-packages\\keras\\src\\engine\\training.py:3079: UserWarning: You are saving your model as an HDF5 file via `model.save()`. This file format is considered legacy. We recommend using instead the native Keras format, e.g. `model.save('my_model.keras')`.\n",
      "  saving_api.save_model(\n"
     ]
    }
   ],
   "source": [
    "# Convert text to sequences\n",
    "train_sequences = tokenizer.texts_to_sequences(train_data['text'])\n",
    "\n",
    "# Pad sequences to a fixed length\n",
    "max_length = 128\n",
    "train_padded = pad_sequences(train_sequences, maxlen=max_length, padding='post', truncating='post')\n",
    "\n",
    "# Define a simple sentiment analysis model\n",
    "model = tf.keras.Sequential([\n",
    "    tf.keras.layers.Embedding(input_dim=len(tokenizer.word_index) + 1, output_dim=128, input_length=max_length),\n",
    "    tf.keras.layers.GlobalAveragePooling1D(),\n",
    "    tf.keras.layers.Dense(3, activation='softmax')\n",
    "])\n",
    "\n",
    "# Compile the model\n",
    "model.compile(optimizer='adam', loss='sparse_categorical_crossentropy', metrics=['accuracy'])\n",
    "\n",
    "# Prepare labels\n",
    "train_labels = train_data['sentiment'].astype('category').cat.codes\n",
    "\n",
    "# Train the model\n",
    "model.fit(train_padded, train_labels, epochs=3, batch_size=32)\n",
    "\n",
    "# Save the trained model\n",
    "model.save('sentiment_analysis_model.h5')"
   ]
  },
  {
   "cell_type": "code",
   "execution_count": 15,
   "id": "2da9fac2",
   "metadata": {},
   "outputs": [],
   "source": [
    "# Load the saved model\n",
    "loaded_model = tf.keras.models.load_model('sentiment_analysis_model.h5')"
   ]
  },
  {
   "cell_type": "code",
   "execution_count": 16,
   "id": "f7a111d0",
   "metadata": {},
   "outputs": [
    {
     "name": "stdout",
     "output_type": "stream",
     "text": [
      "859/859 [==============================] - 2s 2ms/step\n",
      "                                                    text predicted_sentiment\n",
      "0                    I`d have responded, if I were going             neutral\n",
      "1          Sooo SAD I will miss you here in San Diego!!!            negative\n",
      "2                              my boss is bullying me...            negative\n",
      "3                         what interview! leave me alone             neutral\n",
      "4       Sons of ****, why couldn`t they put them on t...             neutral\n",
      "...                                                  ...                 ...\n",
      "27476   wish we could come see u on Denver  husband l...             neutral\n",
      "27477   I`ve wondered about rake to.  The client has ...             neutral\n",
      "27478   Yay good for both of you. Enjoy the break - y...            positive\n",
      "27479                         But it was worth it  ****.             neutral\n",
      "27480     All this flirting going on - The ATG smiles...            positive\n",
      "\n",
      "[27481 rows x 2 columns]\n",
      "111/111 [==============================] - 0s 2ms/step\n",
      "                                                   text predicted_sentiment\n",
      "0     Last session of the day  http://twitpic.com/67ezh             neutral\n",
      "1      Shanghai is also really exciting (precisely -...            positive\n",
      "2     Recession hit Veronique Branquinho, she has to...            negative\n",
      "3                                           happy bday!            positive\n",
      "4                http://twitpic.com/4w75p - I like it!!             neutral\n",
      "...                                                 ...                 ...\n",
      "3529  its at 3 am, im very tired but i can`t sleep  ...            negative\n",
      "3530  All alone in this old house again.  Thanks for...            positive\n",
      "3531   I know what you mean. My little dog is sinkin...            negative\n",
      "3532  _sutra what is your next youtube video gonna b...            positive\n",
      "3533   http://twitpic.com/4woj2 - omgssh  ang cute n...             neutral\n",
      "\n",
      "[3534 rows x 2 columns]\n"
     ]
    }
   ],
   "source": [
    "# Tokenize and pad the train data\n",
    "train_sequences = tokenizer.texts_to_sequences(train_data['text'])\n",
    "train_padded = pad_sequences(train_sequences, maxlen=max_length, padding='post', truncating='post')\n",
    "\n",
    "# Use the loaded model to predict sentiments for train data\n",
    "train_predictions = loaded_model.predict(train_padded)\n",
    "train_predicted_labels = tf.argmax(train_predictions, axis=1).numpy()\n",
    "\n",
    "# Map predicted labels back to sentiment categories\n",
    "train_sentiment_categories = [\"negative\", \"neutral\", \"positive\"]\n",
    "train_predicted_sentiments = [train_sentiment_categories[label] for label in train_predicted_labels]\n",
    "\n",
    "# Add predicted sentiments to the train_data DataFrame\n",
    "train_data['predicted_sentiment'] = train_predicted_sentiments\n",
    "\n",
    "# Display the train_data DataFrame with predicted sentiments\n",
    "print(train_data[['text', 'predicted_sentiment']])\n",
    "\n",
    "# Tokenize and pad the test data\n",
    "test_sequences = tokenizer.texts_to_sequences(test_data['text'])\n",
    "test_padded = pad_sequences(test_sequences, maxlen=max_length, padding='post', truncating='post')\n",
    "\n",
    "# Use the loaded model to predict sentiments for test data\n",
    "test_predictions = loaded_model.predict(test_padded)\n",
    "test_predicted_labels = tf.argmax(test_predictions, axis=1).numpy()\n",
    "\n",
    "# Map predicted labels back to sentiment categories\n",
    "test_sentiment_categories = [\"negative\", \"neutral\", \"positive\"]\n",
    "test_predicted_sentiments = [test_sentiment_categories[label] for label in test_predicted_labels]\n",
    "\n",
    "# Add predicted sentiments to the test_data DataFrame\n",
    "test_data['predicted_sentiment'] = test_predicted_sentiments\n",
    "\n",
    "# Display the test_data DataFrame with predicted sentiments\n",
    "print(test_data[['text', 'predicted_sentiment']])"
   ]
  },
  {
   "cell_type": "code",
   "execution_count": 17,
   "id": "2b8b6844",
   "metadata": {},
   "outputs": [
    {
     "name": "stdout",
     "output_type": "stream",
     "text": [
      "1/1 [==============================] - 0s 15ms/step\n",
      "Text: I love to eat\n",
      "Predicted Sentiment: positive\n",
      "\n",
      "Text: This is disappointing.\n",
      "Predicted Sentiment: negative\n",
      "\n"
     ]
    }
   ],
   "source": [
    "# Another example of new text data\n",
    "new_text_data = [\"I love to eat\", \"This is disappointing.\"]\n",
    "\n",
    "# Tokenize and pad the new text data\n",
    "new_sequences = tokenizer.texts_to_sequences(new_text_data)\n",
    "new_padded = pad_sequences(new_sequences, maxlen=max_length, padding='post', truncating='post')\n",
    "\n",
    "# Use the loaded model to predict sentiments\n",
    "predictions = loaded_model.predict(new_padded)\n",
    "predicted_labels = tf.argmax(predictions, axis=1).numpy()\n",
    "\n",
    "# Map predicted labels back to sentiment categories\n",
    "sentiment_categories = [\"negative\", \"neutral\", \"positive\"]\n",
    "predicted_sentiments = [sentiment_categories[label] for label in predicted_labels]\n",
    "\n",
    "# Display the predicted sentiments for each input text\n",
    "for text, sentiment in zip(new_text_data, predicted_sentiments):\n",
    "    print(f\"Text: {text}\\nPredicted Sentiment: {sentiment}\\n\")"
   ]
  },
  {
   "cell_type": "code",
   "execution_count": null,
   "id": "7a7d134d",
   "metadata": {},
   "outputs": [],
   "source": []
  },
  {
   "cell_type": "code",
   "execution_count": null,
   "id": "3c0a1017",
   "metadata": {},
   "outputs": [],
   "source": []
  },
  {
   "cell_type": "code",
   "execution_count": null,
   "id": "3be9ead9",
   "metadata": {},
   "outputs": [],
   "source": []
  },
  {
   "cell_type": "code",
   "execution_count": null,
   "id": "3f91477f",
   "metadata": {},
   "outputs": [],
   "source": []
  }
 ],
 "metadata": {
  "kernelspec": {
   "display_name": "Python 3 (ipykernel)",
   "language": "python",
   "name": "python3"
  },
  "language_info": {
   "codemirror_mode": {
    "name": "ipython",
    "version": 3
   },
   "file_extension": ".py",
   "mimetype": "text/x-python",
   "name": "python",
   "nbconvert_exporter": "python",
   "pygments_lexer": "ipython3",
   "version": "3.9.13"
  }
 },
 "nbformat": 4,
 "nbformat_minor": 5
}
